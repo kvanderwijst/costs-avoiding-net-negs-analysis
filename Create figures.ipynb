{
 "cells": [
  {
   "cell_type": "markdown",
   "metadata": {},
   "source": [
    "# Avoiding overshoot: figures"
   ]
  },
  {
   "cell_type": "code",
   "execution_count": null,
   "metadata": {},
   "outputs": [],
   "source": [
    "%load_ext autoreload\n",
    "%autoreload 2"
   ]
  },
  {
   "cell_type": "code",
   "execution_count": null,
   "metadata": {},
   "outputs": [],
   "source": [
    "import numpy as np\n",
    "import plotly.express as px\n",
    "from plotly.subplots import make_subplots\n",
    "import plotly.io as pio\n",
    "pio.kaleido.scope.default_width = None\n",
    "pio.kaleido.scope.default_height = None\n",
    "\n",
    "from utils import data, plotparams"
   ]
  },
  {
   "cell_type": "code",
   "execution_count": null,
   "metadata": {},
   "outputs": [],
   "source": [
    "selection_wide = data.read_all(\"data/carbonbudget/\")"
   ]
  },
  {
   "cell_type": "code",
   "execution_count": null,
   "metadata": {},
   "outputs": [],
   "source": [
    "selection = data.to_long(selection_wide)"
   ]
  },
  {
   "cell_type": "markdown",
   "metadata": {},
   "source": [
    "## Figure 1"
   ]
  },
  {
   "cell_type": "code",
   "execution_count": null,
   "metadata": {},
   "outputs": [],
   "source": [
    "selection_fig1 = data.select(selection, cost_level='p50', tcre=data.DEFAULT_TCRE, endyear=2100, damage_i=2, perc_reversible=1, budget=\"600 GtCO2\")"
   ]
  },
  {
   "cell_type": "code",
   "execution_count": null,
   "metadata": {},
   "outputs": [],
   "source": [
    "import utils.fig1ab, utils.fig1c"
   ]
  },
  {
   "cell_type": "code",
   "execution_count": null,
   "metadata": {},
   "outputs": [],
   "source": [
    "fig1ab = utils.fig1ab.create_fig(selection_fig1)\n",
    "fig1ab"
   ]
  },
  {
   "cell_type": "code",
   "execution_count": null,
   "metadata": {},
   "outputs": [],
   "source": [
    "fig1c = utils.fig1c.create_fig(selection_fig1, sdr=0.04)\n",
    "fig1c"
   ]
  },
  {
   "cell_type": "markdown",
   "metadata": {},
   "source": [
    "## Figure 2: sensitivity: total costs over time"
   ]
  },
  {
   "cell_type": "code",
   "execution_count": null,
   "metadata": {},
   "outputs": [],
   "source": [
    "selection_fig2 = data.select(selection, cost_level='p50', tcre=data.DEFAULT_TCRE, endyear=2100, damage_i=[0, 2, -1], perc_reversible=1, budget=\"600 GtCO2\")"
   ]
  },
  {
   "cell_type": "code",
   "execution_count": null,
   "metadata": {},
   "outputs": [],
   "source": [
    "import utils.fig2"
   ]
  },
  {
   "cell_type": "code",
   "execution_count": null,
   "metadata": {},
   "outputs": [],
   "source": [
    "subselect_costs = data.select(selection_fig2, damage_i=2, prtp=0.015)\n",
    "subselect_costs[subselect_costs['year'].isin([2030, 2060, 2090])][['year', 'minlevel', 'total_costs_relative']]"
   ]
  },
  {
   "cell_type": "code",
   "execution_count": null,
   "metadata": {},
   "outputs": [],
   "source": [
    "fig2 = utils.fig2.create_fig(selection_fig2, sdr=0.04)\n",
    "fig2"
   ]
  },
  {
   "cell_type": "code",
   "execution_count": null,
   "metadata": {},
   "outputs": [],
   "source": [
    "fig2_1344GtCO2 = utils.fig2.create_fig(data.select(selection, cost_level='p50', tcre=data.DEFAULT_TCRE, endyear=2100, damage_i=[0, 2, -1], perc_reversible=1, budget=\"1344 GtCO2\"), sdr=0.04, with_arrows=False)\n",
    "fig2_1344GtCO2"
   ]
  },
  {
   "cell_type": "code",
   "execution_count": null,
   "metadata": {},
   "outputs": [],
   "source": [
    "# #### Until 2150:\n",
    "# (\n",
    "#     utils.fig2.create_fig(\n",
    "#         data.select(selection, cost_level='p50', tcre=data.DEFAULT_TCRE, endyear=2150, damage_i=[0, 2, -1], perc_reversible=1, budget=\"600 GtCO2\"),\n",
    "#         sdr=0.04\n",
    "#     )\n",
    "#     .update_xaxes(col=1, range=[2020, 2150])\n",
    "#     .update_xaxes(col=3, range=[2020, 2150])\n",
    "#     .update_xaxes(col=5, range=[2020, 2150])\n",
    "# )"
   ]
  },
  {
   "cell_type": "markdown",
   "metadata": {},
   "source": [
    "## Figure 3: sensitivity: total net negative emissions"
   ]
  },
  {
   "cell_type": "code",
   "execution_count": null,
   "metadata": {},
   "outputs": [],
   "source": [
    "selection_fig3 = data.select(selection, tcre=data.DEFAULT_TCRE, perc_reversible=1, endyear=2100, budget=\"600 GtCO2\")"
   ]
  },
  {
   "cell_type": "code",
   "execution_count": null,
   "metadata": {},
   "outputs": [],
   "source": [
    "import utils.fig3"
   ]
  },
  {
   "cell_type": "code",
   "execution_count": null,
   "metadata": {},
   "outputs": [],
   "source": [
    "fig3 = utils.fig3.create_fig(selection_fig3)\n",
    "fig3"
   ]
  },
  {
   "cell_type": "code",
   "execution_count": null,
   "metadata": {},
   "outputs": [],
   "source": [
    "%%time\n",
    "fig_SI_costs_sensitivity = utils.fig3.create_fig_costs(selection_fig3, 0.04)\n",
    "fig_SI_costs_sensitivity"
   ]
  },
  {
   "cell_type": "code",
   "execution_count": null,
   "metadata": {},
   "outputs": [],
   "source": [
    "# fig_SI_costs_sensitvity.write_image(\"../Paper/img/fig_SI_costs_sensitivity.png\", scale=3)"
   ]
  },
  {
   "cell_type": "markdown",
   "metadata": {},
   "source": [
    "## Figure 4: irreversible climate damages"
   ]
  },
  {
   "cell_type": "code",
   "execution_count": null,
   "metadata": {
    "tags": []
   },
   "outputs": [],
   "source": [
    "selection_damage_target = data.to_long(data.read_all(\"data/damagetarget/\"))"
   ]
  },
  {
   "cell_type": "code",
   "execution_count": null,
   "metadata": {},
   "outputs": [],
   "source": [
    "selection_damage_target_fig4 = data.select(selection_damage_target, with_overshoot=True, damage_i=[0, 2, -1], endyear=2100, tcre=data.DEFAULT_TCRE)"
   ]
  },
  {
   "cell_type": "code",
   "execution_count": null,
   "metadata": {},
   "outputs": [],
   "source": [
    "import utils.fig4"
   ]
  },
  {
   "cell_type": "code",
   "execution_count": null,
   "metadata": {},
   "outputs": [],
   "source": [
    "fig4 = utils.fig4.create_fig(selection_damage_target_fig4)\n",
    "fig4"
   ]
  },
  {
   "cell_type": "code",
   "execution_count": null,
   "metadata": {},
   "outputs": [],
   "source": [
    "# fig1ab.write_image(\"../Paper/img/fig1ab.png\", scale=3)\n",
    "# fig1c.write_image(\"../Paper/img/fig1c.png\", scale=3)\n",
    "# fig2.write_image(\"../Paper/img/fig2.png\", scale=3)\n",
    "# fig3.write_image(\"../Paper/img/fig3.png\", scale=3)\n",
    "# fig4.write_image(\"../Paper/img/fig4.png\", scale=3)"
   ]
  },
  {
   "cell_type": "markdown",
   "metadata": {},
   "source": [
    "# SI figures"
   ]
  },
  {
   "cell_type": "markdown",
   "metadata": {},
   "source": [
    "## Carbon price and emissions for fig 2"
   ]
  },
  {
   "cell_type": "code",
   "execution_count": null,
   "metadata": {},
   "outputs": [],
   "source": [
    "# variables = ['global_emissions']\n",
    "def carbonprice_fig(selection):\n",
    "\n",
    "    variables = 'carbonprice'\n",
    "    selection_fig2_copy = selection.copy()\n",
    "    selection_fig2_copy['carbonprice'] *= 1000\n",
    "    selection_fig2_copy.loc[selection_fig2_copy['damage_coeff'] == data.DAMAGE_COEFFS[0], 'damage_coeff'] = 'DICE'\n",
    "    selection_fig2_copy.loc[selection_fig2_copy['damage_coeff'] == data.DAMAGE_COEFFS[2], 'damage_coeff'] = 'Howard Total'\n",
    "    selection_fig2_copy.loc[selection_fig2_copy['damage_coeff'] == data.DAMAGE_COEFFS[-1], 'damage_coeff'] = 'Burke (LR)'\n",
    "\n",
    "    return px.line(\n",
    "        selection_fig2_copy,\n",
    "        x='year', y=variables,\n",
    "        facet_col='damage_coeff',\n",
    "        color='PRTP', line_dash='minlevel', color_discrete_sequence=plotparams.COLORS_PBL,\n",
    "        render_mode='svg',\n",
    "        width=950, height=500\n",
    "    ).update_yaxes(col=1, title='Carbon price (USD / tCO<sub>2</sub>)')\n",
    "fig_SI_carbonprices = carbonprice_fig(selection_fig2)\n",
    "fig_SI_carbonprices"
   ]
  },
  {
   "cell_type": "code",
   "execution_count": null,
   "metadata": {},
   "outputs": [],
   "source": [
    "# fig_SI_carbonprices.write_image(\"../Paper/img/fig_SI_carbonprices_600.png\", scale=3)"
   ]
  },
  {
   "cell_type": "markdown",
   "metadata": {},
   "source": [
    "## Carbon budget for 2°C"
   ]
  },
  {
   "cell_type": "code",
   "execution_count": null,
   "metadata": {},
   "outputs": [],
   "source": [
    "selection_fig2_2C = data.select(selection, cost_level='p50', tcre=data.DEFAULT_TCRE, endyear=2100, damage_i=[0, 2, -1], perc_reversible=1, budget=\"1344 GtCO2\")\n",
    "fig2_2C = utils.fig2.create_fig(selection_fig2_2C, sdr=0.04, with_arrows=False)\n",
    "# fig2_2C.write_image(\"../Paper/img/fig2_1344.png\", scale=3)"
   ]
  },
  {
   "cell_type": "code",
   "execution_count": null,
   "metadata": {},
   "outputs": [],
   "source": [
    "selection_fig3_2C = data.select(selection, tcre=data.DEFAULT_TCRE, perc_reversible=1, endyear=2100, budget=\"1344 GtCO2\")\n",
    "utils.fig3.create_fig(selection_fig3_2C).show()\n",
    "utils.fig3.create_fig_costs(selection_fig3_2C, 0.04).update_layout(legend_y=0.8).show()"
   ]
  },
  {
   "cell_type": "code",
   "execution_count": null,
   "metadata": {},
   "outputs": [],
   "source": [
    "fig_SI_carbonprices_2C = carbonprice_fig(selection_fig2_2C)\n",
    "# fig_SI_carbonprices_2C.write_image(\"../Paper/img/fig_SI_carbonprices_1344.png\", scale=3)"
   ]
  }
 ],
 "metadata": {
  "kernelspec": {
   "display_name": "Python 3",
   "language": "python",
   "name": "python3"
  },
  "language_info": {
   "codemirror_mode": {
    "name": "ipython",
    "version": 3
   },
   "file_extension": ".py",
   "mimetype": "text/x-python",
   "name": "python",
   "nbconvert_exporter": "python",
   "pygments_lexer": "ipython3",
   "version": "3.7.4"
  }
 },
 "nbformat": 4,
 "nbformat_minor": 2
}
